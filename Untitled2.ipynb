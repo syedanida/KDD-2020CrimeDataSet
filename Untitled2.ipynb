{
  "nbformat": 4,
  "nbformat_minor": 0,
  "metadata": {
    "colab": {
      "provenance": [],
      "authorship_tag": "ABX9TyNht3whSmRi0ruPBKh1KR83",
      "include_colab_link": true
    },
    "kernelspec": {
      "name": "python3",
      "display_name": "Python 3"
    },
    "language_info": {
      "name": "python"
    }
  },
  "cells": [
    {
      "cell_type": "markdown",
      "metadata": {
        "id": "view-in-github",
        "colab_type": "text"
      },
      "source": [
        "<a href=\"https://colab.research.google.com/github/syedanida/KDD-2020CrimeDataSet/blob/main/Untitled2.ipynb\" target=\"_parent\"><img src=\"https://colab.research.google.com/assets/colab-badge.svg\" alt=\"Open In Colab\"/></a>"
      ]
    },
    {
      "cell_type": "markdown",
      "source": [
        "***Step 1: Selection***"
      ],
      "metadata": {
        "id": "mUiEonS4LiCd"
      }
    },
    {
      "cell_type": "code",
      "execution_count": 9,
      "metadata": {
        "colab": {
          "base_uri": "https://localhost:8080/"
        },
        "id": "Odp3TI4bDH8b",
        "outputId": "825b30c9-217e-497b-e399-376564190066"
      },
      "outputs": [
        {
          "output_type": "stream",
          "name": "stderr",
          "text": [
            "<ipython-input-9-de51dee3a720>:3: DtypeWarning: Columns (0,3,4,6,7,8,11,14,16,20,21,22,23) have mixed types. Specify dtype option on import or set low_memory=False.\n",
            "  crime_data = pd.read_csv('Crime_Data_from_2020_to_Present.csv', on_bad_lines='skip')\n"
          ]
        },
        {
          "output_type": "stream",
          "name": "stdout",
          "text": [
            "       DR_NO               Date Rptd                DATE OCC TIME OCC AREA  \\\n",
            "0  190326475  03/01/2020 12:00:00 AM  03/01/2020 12:00:00 AM     2130   07   \n",
            "1  200106753  02/09/2020 12:00:00 AM  02/08/2020 12:00:00 AM     1800   01   \n",
            "2  200320258  11/11/2020 12:00:00 AM  11/04/2020 12:00:00 AM     1700   03   \n",
            "3  200907217  05/10/2023 12:00:00 AM  03/10/2020 12:00:00 AM     2037   09   \n",
            "4  220614831  08/18/2022 12:00:00 AM  08/17/2020 12:00:00 AM     1200   06   \n",
            "\n",
            "   AREA NAME Rpt Dist No Part 1-2 Crm Cd  \\\n",
            "0   Wilshire       784.0      1.0  510.0   \n",
            "1    Central       182.0      1.0  330.0   \n",
            "2  Southwest       356.0      1.0  480.0   \n",
            "3   Van Nuys       964.0      1.0  343.0   \n",
            "4  Hollywood       666.0      2.0  354.0   \n",
            "\n",
            "                                Crm Cd Desc  ... Status   Status Desc  \\\n",
            "0                          VEHICLE - STOLEN  ...     AA  Adult Arrest   \n",
            "1                     BURGLARY FROM VEHICLE  ...     IC   Invest Cont   \n",
            "2                             BIKE - STOLEN  ...     IC   Invest Cont   \n",
            "3  SHOPLIFTING-GRAND THEFT ($950.01 & OVER)  ...     IC   Invest Cont   \n",
            "4                         THEFT OF IDENTITY  ...     IC   Invest Cont   \n",
            "\n",
            "  Crm Cd 1 Crm Cd 2 Crm Cd 3 Crm Cd 4  \\\n",
            "0      510    998.0      NaN      NaN   \n",
            "1      330    998.0      NaN      NaN   \n",
            "2      480      NaN      NaN      NaN   \n",
            "3      343      NaN      NaN      NaN   \n",
            "4      354      NaN      NaN      NaN   \n",
            "\n",
            "                                   LOCATION Cross Street      LAT       LON  \n",
            "0   1900 S  LONGWOOD                     AV          NaN  34.0375 -118.3506  \n",
            "1   1000 S  FLOWER                       ST          NaN  34.0444 -118.2628  \n",
            "2   1400 W  37TH                         ST          NaN  34.0210 -118.3002  \n",
            "3  14000    RIVERSIDE                    DR          NaN  34.1576 -118.4387  \n",
            "4                         1900    TRANSIENT          NaN  34.0944 -118.3277  \n",
            "\n",
            "[5 rows x 28 columns]\n"
          ]
        }
      ],
      "source": [
        "import pandas as pd\n",
        "\n",
        "crime_data = pd.read_csv('Crime_Data_from_2020_to_Present.csv', on_bad_lines='skip')\n",
        "\n",
        "# Display the first few rows of the dataset\n",
        "print(crime_data.head())\n"
      ]
    },
    {
      "cell_type": "code",
      "source": [
        "# Check for the shape of the dataset\n",
        "print(\"Shape of the dataset:\", crime_data.shape)\n"
      ],
      "metadata": {
        "colab": {
          "base_uri": "https://localhost:8080/"
        },
        "id": "i1ohdibMOCGx",
        "outputId": "001acd2d-5c43-4e48-be93-2782d9abd8b7"
      },
      "execution_count": 11,
      "outputs": [
        {
          "output_type": "stream",
          "name": "stdout",
          "text": [
            "Shape of the dataset: (2, 28)\n"
          ]
        }
      ]
    },
    {
      "cell_type": "markdown",
      "source": [
        "***Step 2: Preprocessing***"
      ],
      "metadata": {
        "id": "R3n7sIVBLmSy"
      }
    },
    {
      "cell_type": "code",
      "source": [
        "# Check for missing values\n",
        "print(\"Missing values in each column:\")\n",
        "print(crime_data.isnull().sum())\n"
      ],
      "metadata": {
        "colab": {
          "base_uri": "https://localhost:8080/"
        },
        "id": "ymAiSkQUNlu7",
        "outputId": "43c10af7-4f80-458d-f3bd-985c3757f621"
      },
      "execution_count": 12,
      "outputs": [
        {
          "output_type": "stream",
          "name": "stdout",
          "text": [
            "Missing values in each column:\n",
            "DR_NO             0\n",
            "Date Rptd         0\n",
            "DATE OCC          0\n",
            "TIME OCC          0\n",
            "AREA              0\n",
            "AREA NAME         0\n",
            "Rpt Dist No       0\n",
            "Part 1-2          0\n",
            "Crm Cd            0\n",
            "Crm Cd Desc       0\n",
            "Mocodes           0\n",
            "Vict Age          0\n",
            "Vict Sex          0\n",
            "Vict Descent      0\n",
            "Premis Cd         0\n",
            "Premis Desc       0\n",
            "Weapon Used Cd    0\n",
            "Weapon Desc       0\n",
            "Status            0\n",
            "Status Desc       0\n",
            "Crm Cd 1          0\n",
            "Crm Cd 2          0\n",
            "Crm Cd 3          0\n",
            "Crm Cd 4          0\n",
            "LOCATION          0\n",
            "Cross Street      0\n",
            "LAT               0\n",
            "LON               0\n",
            "dtype: int64\n"
          ]
        }
      ]
    },
    {
      "cell_type": "markdown",
      "source": [
        "***Step 3: Transformation***"
      ],
      "metadata": {
        "id": "JpGxjgwsL4Eq"
      }
    },
    {
      "cell_type": "code",
      "source": [
        "# Drop rows with missing values (if any)\n",
        "crime_data = crime_data.dropna()\n"
      ],
      "metadata": {
        "id": "31q1W1QDNloN"
      },
      "execution_count": 13,
      "outputs": []
    },
    {
      "cell_type": "code",
      "source": [
        "# Display the columns in the dataset\n",
        "print(\"Columns in the dataset:\")\n",
        "print(crime_data.columns)\n",
        "\n",
        "# Strip leading/trailing spaces from column names\n",
        "crime_data.columns = crime_data.columns.str.strip()\n"
      ],
      "metadata": {
        "colab": {
          "base_uri": "https://localhost:8080/"
        },
        "id": "DtIQE4bvOOmo",
        "outputId": "9814bc92-cc72-4770-bc76-3bcc6eac5cb3"
      },
      "execution_count": 14,
      "outputs": [
        {
          "output_type": "stream",
          "name": "stdout",
          "text": [
            "Columns in the dataset:\n",
            "Index(['DR_NO', 'Date Rptd', 'DATE OCC', 'TIME OCC', 'AREA', 'AREA NAME',\n",
            "       'Rpt Dist No', 'Part 1-2', 'Crm Cd', 'Crm Cd Desc', 'Mocodes',\n",
            "       'Vict Age', 'Vict Sex', 'Vict Descent', 'Premis Cd', 'Premis Desc',\n",
            "       'Weapon Used Cd', 'Weapon Desc', 'Status', 'Status Desc', 'Crm Cd 1',\n",
            "       'Crm Cd 2', 'Crm Cd 3', 'Crm Cd 4', 'LOCATION', 'Cross Street', 'LAT',\n",
            "       'LON'],\n",
            "      dtype='object')\n"
          ]
        }
      ]
    },
    {
      "cell_type": "markdown",
      "source": [
        "***Step 4: Data Mining***"
      ],
      "metadata": {
        "id": "UtfMSXR3L74o"
      }
    },
    {
      "cell_type": "code",
      "source": [
        "# Convert categorical columns to numerical if needed\n",
        "# Replace 'Category' with the actual name of the column containing crime categories\n",
        "if 'Category' in crime_data.columns:\n",
        "    crime_data['Category'] = pd.factorize(crime_data['Category'])[0]\n",
        "else:\n",
        "    print(\"Column 'Category' not found. Available columns are:\", crime_data.columns)\n"
      ],
      "metadata": {
        "colab": {
          "base_uri": "https://localhost:8080/"
        },
        "id": "oXgb5Zl-OQPC",
        "outputId": "1212aa2c-fb0a-4e57-f91a-7a9a848cbeb4"
      },
      "execution_count": 15,
      "outputs": [
        {
          "output_type": "stream",
          "name": "stdout",
          "text": [
            "Column 'Category' not found. Available columns are: Index(['DR_NO', 'Date Rptd', 'DATE OCC', 'TIME OCC', 'AREA', 'AREA NAME',\n",
            "       'Rpt Dist No', 'Part 1-2', 'Crm Cd', 'Crm Cd Desc', 'Mocodes',\n",
            "       'Vict Age', 'Vict Sex', 'Vict Descent', 'Premis Cd', 'Premis Desc',\n",
            "       'Weapon Used Cd', 'Weapon Desc', 'Status', 'Status Desc', 'Crm Cd 1',\n",
            "       'Crm Cd 2', 'Crm Cd 3', 'Crm Cd 4', 'LOCATION', 'Cross Street', 'LAT',\n",
            "       'LON'],\n",
            "      dtype='object')\n"
          ]
        }
      ]
    },
    {
      "cell_type": "markdown",
      "source": [
        "***Step 5: Interpretation***"
      ],
      "metadata": {
        "id": "NzOEIJofL_0n"
      }
    },
    {
      "cell_type": "code",
      "source": [
        "# Display the updated dataset\n",
        "print(\"Updated dataset:\")\n",
        "print(crime_data.head())\n"
      ],
      "metadata": {
        "colab": {
          "base_uri": "https://localhost:8080/"
        },
        "id": "Eg00KRjqOTC4",
        "outputId": "09bd2661-2f30-4dd1-999d-f7e7b36eca95"
      },
      "execution_count": 16,
      "outputs": [
        {
          "output_type": "stream",
          "name": "stdout",
          "text": [
            "Updated dataset:\n",
            "            DR_NO               Date Rptd                DATE OCC TIME OCC  \\\n",
            "131352  201904032  01/02/2020 12:00:00 AM  01/01/2020 12:00:00 AM     2135   \n",
            "172359  200613424  08/02/2020 12:00:00 AM  08/02/2020 12:00:00 AM     2030   \n",
            "\n",
            "       AREA  AREA NAME Rpt Dist No Part 1-2 Crm Cd      Crm Cd Desc  ...  \\\n",
            "131352   19    Mission        1924        1  761.0  BRANDISH WEAPON  ...   \n",
            "172359   06  Hollywood         657        1    761  BRANDISH WEAPON  ...   \n",
            "\n",
            "       Status   Status Desc Crm Cd 1 Crm Cd 2 Crm Cd 3 Crm Cd 4  \\\n",
            "131352     AA  Adult Arrest    761.0    930.0      997      998   \n",
            "172359     AO   Adult Other    761.0    920.0    930.0      998   \n",
            "\n",
            "                               LOCATION                     Cross Street  \\\n",
            "131352  ASTORIA                      ST  SAN FERNANDO                 RD   \n",
            "172359                          WESTERN                          ROMAINE   \n",
            "\n",
            "            LAT       LON  \n",
            "131352  34.2949 -118.4571  \n",
            "172359  34.0885 -118.3092  \n",
            "\n",
            "[2 rows x 28 columns]\n"
          ]
        }
      ]
    },
    {
      "cell_type": "code",
      "source": [
        "# Check the column names in the dataset\n",
        "print(crime_data.columns)\n"
      ],
      "metadata": {
        "colab": {
          "base_uri": "https://localhost:8080/"
        },
        "id": "PzlmlFmrOoIU",
        "outputId": "9aebecec-624b-4194-8330-bc9406b0867f"
      },
      "execution_count": 18,
      "outputs": [
        {
          "output_type": "stream",
          "name": "stdout",
          "text": [
            "Index(['DR_NO', 'Date Rptd', 'DATE OCC', 'TIME OCC', 'AREA', 'AREA NAME',\n",
            "       'Rpt Dist No', 'Part 1-2', 'Crm Cd', 'Crm Cd Desc', 'Mocodes',\n",
            "       'Vict Age', 'Vict Sex', 'Vict Descent', 'Premis Cd', 'Premis Desc',\n",
            "       'Weapon Used Cd', 'Weapon Desc', 'Status', 'Status Desc', 'Crm Cd 1',\n",
            "       'Crm Cd 2', 'Crm Cd 3', 'Crm Cd 4', 'LOCATION', 'Cross Street', 'LAT',\n",
            "       'LON'],\n",
            "      dtype='object')\n"
          ]
        }
      ]
    },
    {
      "cell_type": "code",
      "source": [
        "import pandas as pd\n",
        "from sklearn.model_selection import train_test_split\n",
        "from sklearn.ensemble import RandomForestClassifier\n",
        "from sklearn.metrics import classification_report, confusion_matrix\n",
        "import seaborn as sns\n",
        "import matplotlib.pyplot as plt\n",
        "\n",
        "# Define your target and feature variables\n",
        "target_column = 'Part 1-2'  # Example target variable (ensure it's categorical)\n",
        "X = crime_data[['Vict Age', 'Vict Sex', 'Vict Descent', 'Premis Cd', 'Weapon Used Cd']]  # Features\n",
        "\n",
        "# Check unique values in target variable\n",
        "y = crime_data[target_column]  # Target variable\n",
        "print(\"Unique values in target variable:\", y.unique())\n",
        "\n",
        "# Convert target variable to numerical categories if necessary\n",
        "y = pd.factorize(y)[0]  # Convert to numeric categories\n",
        "\n",
        "# Convert categorical columns to numerical using one-hot encoding\n",
        "X = pd.get_dummies(X, drop_first=True)\n",
        "\n",
        "# Split the dataset into training and testing sets\n",
        "X_train, X_test, y_train, y_test = train_test_split(X, y, test_size=0.2, random_state=42)\n",
        "\n",
        "# Step 2: Create and train a Random Forest Classifier\n",
        "model = RandomForestClassifier(random_state=42)\n",
        "model.fit(X_train, y_train)\n",
        "\n",
        "# Step 3: Make predictions\n",
        "y_pred = model.predict(X_test)\n",
        "\n",
        "# Evaluate the model\n",
        "print(classification_report(y_test, y_pred))\n",
        "print(confusion_matrix(y_test, y_pred))\n",
        "\n",
        "# Visualize the confusion matrix\n",
        "sns.heatmap(confusion_matrix(y_test, y_pred), annot=True, fmt='d')\n",
        "plt.xlabel('Predicted')\n",
        "plt.ylabel('True')\n",
        "plt.title('Confusion Matrix')\n",
        "plt.show()"
      ],
      "metadata": {
        "colab": {
          "base_uri": "https://localhost:8080/",
          "height": 735
        },
        "id": "_RCKAB80OdTH",
        "outputId": "cd1184ff-5cc8-4f03-ee26-84ed3b20cb4b"
      },
      "execution_count": 25,
      "outputs": [
        {
          "output_type": "stream",
          "name": "stdout",
          "text": [
            "Unique values in target variable: [1]\n",
            "              precision    recall  f1-score   support\n",
            "\n",
            "           0       1.00      1.00      1.00         1\n",
            "\n",
            "    accuracy                           1.00         1\n",
            "   macro avg       1.00      1.00      1.00         1\n",
            "weighted avg       1.00      1.00      1.00         1\n",
            "\n",
            "[[1]]\n"
          ]
        },
        {
          "output_type": "stream",
          "name": "stderr",
          "text": [
            "/usr/local/lib/python3.10/dist-packages/sklearn/metrics/_classification.py:409: UserWarning: A single label was found in 'y_true' and 'y_pred'. For the confusion matrix to have the correct shape, use the 'labels' parameter to pass all known labels.\n",
            "  warnings.warn(\n",
            "/usr/local/lib/python3.10/dist-packages/sklearn/metrics/_classification.py:409: UserWarning: A single label was found in 'y_true' and 'y_pred'. For the confusion matrix to have the correct shape, use the 'labels' parameter to pass all known labels.\n",
            "  warnings.warn(\n"
          ]
        },
        {
          "output_type": "display_data",
          "data": {
            "text/plain": [
              "<Figure size 640x480 with 2 Axes>"
            ],
            "image/png": "[encoded data removed]"
          },
          "metadata": {}
        }
      ]
    }
  ]
}